{
 "cells": [
  {
   "cell_type": "code",
   "execution_count": 1,
   "id": "0b684d1c-49d8-4a89-80ee-8f54c4f6fe34",
   "metadata": {},
   "outputs": [
    {
     "name": "stdout",
     "output_type": "stream",
     "text": [
      "/home/mbrzozowski/projects/media_monitoring/roberta_for_longer_texts\n"
     ]
    }
   ],
   "source": [
    "%load_ext autoreload\n",
    "%autoreload 2\n",
    "%cd ..\n",
    "\n",
    "%matplotlib inline"
   ]
  },
  {
   "cell_type": "code",
   "execution_count": 2,
   "id": "8f020349-c880-426d-a878-3089c79c9203",
   "metadata": {},
   "outputs": [],
   "source": [
    "import pandas as pd\n",
    "import numpy as np\n",
    "\n",
    "from config import VISIBLE_GPUS\n",
    "\n",
    "import os\n",
    "os.environ[\"CUDA_VISIBLE_DEVICES\"]= VISIBLE_GPUS\n",
    "import torch\n",
    "\n",
    "from sklearn.model_selection import train_test_split\n",
    "from lib.main import BERTClassificationModelWithPooling"
   ]
  },
  {
   "cell_type": "markdown",
   "id": "77184f93-d4e0-449f-8a5e-c9b1103d077c",
   "metadata": {},
   "source": [
    "## Load data - sample of IMDB reviews in english"
   ]
  },
  {
   "cell_type": "code",
   "execution_count": 3,
   "id": "58bddeba-98da-4eeb-b214-16318539a62e",
   "metadata": {},
   "outputs": [],
   "source": [
    "SAMPLE_DATA_PATH = 'test/sample_data/sample_data_eng.csv'"
   ]
  },
  {
   "cell_type": "code",
   "execution_count": 4,
   "id": "c84ad322-1484-4cd8-bf44-9bd7dcdb7ce3",
   "metadata": {},
   "outputs": [],
   "source": [
    "# Loading data for tests\n",
    "df = pd.read_csv(SAMPLE_DATA_PATH)\n",
    "\n",
    "texts = df['sentence'].tolist() # list of texts\n",
    "labels = df['target'].tolist() # list of 0/1 labels\n"
   ]
  },
  {
   "cell_type": "code",
   "execution_count": 5,
   "id": "b1961058-55b7-456d-af4c-964c07b6cbb0",
   "metadata": {},
   "outputs": [
    {
     "data": {
      "text/html": [
       "<div>\n",
       "<style scoped>\n",
       "    .dataframe tbody tr th:only-of-type {\n",
       "        vertical-align: middle;\n",
       "    }\n",
       "\n",
       "    .dataframe tbody tr th {\n",
       "        vertical-align: top;\n",
       "    }\n",
       "\n",
       "    .dataframe thead th {\n",
       "        text-align: right;\n",
       "    }\n",
       "</style>\n",
       "<table border=\"1\" class=\"dataframe\">\n",
       "  <thead>\n",
       "    <tr style=\"text-align: right;\">\n",
       "      <th></th>\n",
       "      <th>sentence</th>\n",
       "      <th>target</th>\n",
       "    </tr>\n",
       "  </thead>\n",
       "  <tbody>\n",
       "    <tr>\n",
       "      <th>0</th>\n",
       "      <td>I saw this movie not knowing anything about it...</td>\n",
       "      <td>0</td>\n",
       "    </tr>\n",
       "    <tr>\n",
       "      <th>1</th>\n",
       "      <td>OK, don't let my summary fool you. This movie ...</td>\n",
       "      <td>0</td>\n",
       "    </tr>\n",
       "    <tr>\n",
       "      <th>2</th>\n",
       "      <td>This should be re-titled \"The Curious Case Of ...</td>\n",
       "      <td>0</td>\n",
       "    </tr>\n",
       "    <tr>\n",
       "      <th>3</th>\n",
       "      <td>Those 2 points are dedicated the reasonable pe...</td>\n",
       "      <td>0</td>\n",
       "    </tr>\n",
       "    <tr>\n",
       "      <th>4</th>\n",
       "      <td>Following the success of the (awful) Gilligan'...</td>\n",
       "      <td>0</td>\n",
       "    </tr>\n",
       "    <tr>\n",
       "      <th>...</th>\n",
       "      <td>...</td>\n",
       "      <td>...</td>\n",
       "    </tr>\n",
       "    <tr>\n",
       "      <th>1995</th>\n",
       "      <td>What if Marylin Monroe, Albert Einstein, Joe D...</td>\n",
       "      <td>1</td>\n",
       "    </tr>\n",
       "    <tr>\n",
       "      <th>1996</th>\n",
       "      <td>Such a film of beauty that it's hard to descri...</td>\n",
       "      <td>1</td>\n",
       "    </tr>\n",
       "    <tr>\n",
       "      <th>1997</th>\n",
       "      <td>I saw this movie with my friend and we couldnt...</td>\n",
       "      <td>1</td>\n",
       "    </tr>\n",
       "    <tr>\n",
       "      <th>1998</th>\n",
       "      <td>This is the best piece of film ever created It...</td>\n",
       "      <td>1</td>\n",
       "    </tr>\n",
       "    <tr>\n",
       "      <th>1999</th>\n",
       "      <td>First of all, don't go into Revolver expecting...</td>\n",
       "      <td>1</td>\n",
       "    </tr>\n",
       "  </tbody>\n",
       "</table>\n",
       "<p>2000 rows × 2 columns</p>\n",
       "</div>"
      ],
      "text/plain": [
       "                                               sentence  target\n",
       "0     I saw this movie not knowing anything about it...       0\n",
       "1     OK, don't let my summary fool you. This movie ...       0\n",
       "2     This should be re-titled \"The Curious Case Of ...       0\n",
       "3     Those 2 points are dedicated the reasonable pe...       0\n",
       "4     Following the success of the (awful) Gilligan'...       0\n",
       "...                                                 ...     ...\n",
       "1995  What if Marylin Monroe, Albert Einstein, Joe D...       1\n",
       "1996  Such a film of beauty that it's hard to descri...       1\n",
       "1997  I saw this movie with my friend and we couldnt...       1\n",
       "1998  This is the best piece of film ever created It...       1\n",
       "1999  First of all, don't go into Revolver expecting...       1\n",
       "\n",
       "[2000 rows x 2 columns]"
      ]
     },
     "execution_count": 5,
     "metadata": {},
     "output_type": "execute_result"
    }
   ],
   "source": [
    "df"
   ]
  },
  {
   "cell_type": "markdown",
   "id": "fad5dcfa-bf7f-4202-a6b6-5ed256fbfd4d",
   "metadata": {},
   "source": [
    "## Divide to train and test sets"
   ]
  },
  {
   "cell_type": "code",
   "execution_count": 6,
   "id": "1505f595-5990-4b90-8e75-eed4e4c4e277",
   "metadata": {},
   "outputs": [],
   "source": [
    "# Train test split\n",
    "X_train, X_test, y_train, y_test = train_test_split(texts, labels, test_size=0.2, random_state=42)"
   ]
  },
  {
   "cell_type": "markdown",
   "id": "1a23e645-4f4f-46c3-99a6-c9b9a59a5254",
   "metadata": {},
   "source": [
    "# Method train_and_evaluate"
   ]
  },
  {
   "cell_type": "code",
   "execution_count": 7,
   "id": "4d29c6f8-8104-486e-b20f-0e1750d56e77",
   "metadata": {},
   "outputs": [
    {
     "name": "stderr",
     "output_type": "stream",
     "text": [
      "Some weights of the model checkpoint at bert-base-uncased were not used when initializing BertModel: ['cls.predictions.bias', 'cls.predictions.decoder.weight', 'cls.predictions.transform.LayerNorm.bias', 'cls.predictions.transform.dense.weight', 'cls.seq_relationship.weight', 'cls.seq_relationship.bias', 'cls.predictions.transform.dense.bias', 'cls.predictions.transform.LayerNorm.weight']\n",
      "- This IS expected if you are initializing BertModel from the checkpoint of a model trained on another task or with another architecture (e.g. initializing a BertForSequenceClassification model from a BertForPreTraining model).\n",
      "- This IS NOT expected if you are initializing BertModel from the checkpoint of a model that you expect to be exactly identical (initializing a BertForSequenceClassification model from a BertForSequenceClassification model).\n"
     ]
    }
   ],
   "source": [
    "# Loading model\n",
    "model = BERTClassificationModelWithPooling()"
   ]
  },
  {
   "cell_type": "code",
   "execution_count": 8,
   "id": "39fde966-d26c-40e6-9c17-a1a108f7b05e",
   "metadata": {},
   "outputs": [
    {
     "name": "stderr",
     "output_type": "stream",
     "text": [
      "Token indices sequence length is longer than the specified maximum sequence length for this model (1071 > 512). Running this sequence through the model will result in indexing errors\n"
     ]
    },
    {
     "name": "stdout",
     "output_type": "stream",
     "text": [
      "Epoch: 0, Train accuracy: 0.785, Train loss: 0.4539263710565865\n",
      "Epoch: 0, Test accuracy: 0.8275, Test loss: 0.38338080249726775\n",
      "Epoch: 1, Train accuracy: 0.941875, Train loss: 0.1923544045118615\n",
      "Epoch: 1, Test accuracy: 0.895, Test loss: 0.29595350826159117\n",
      "Epoch: 2, Train accuracy: 0.955625, Train loss: 0.13007455416722224\n",
      "Epoch: 2, Test accuracy: 0.9075, Test loss: 0.3190570401167497\n",
      "Epoch: 3, Train accuracy: 0.984375, Train loss: 0.06933444594498724\n",
      "Epoch: 3, Test accuracy: 0.9025, Test loss: 0.33874595758039505\n",
      "Epoch: 4, Train accuracy: 0.9875, Train loss: 0.04908364221337251\n",
      "Epoch: 4, Test accuracy: 0.9025, Test loss: 0.38362644606269897\n"
     ]
    }
   ],
   "source": [
    "results = model.train_and_evaluate(X_train, X_test, y_train, y_test, epochs = 5)"
   ]
  },
  {
   "cell_type": "markdown",
   "id": "82e1fda7-1a51-4843-af93-213d772d590b",
   "metadata": {},
   "source": [
    "## Get learning curve"
   ]
  },
  {
   "cell_type": "code",
   "execution_count": 12,
   "id": "18068a92-ac45-44d2-aabc-4d36e861a2aa",
   "metadata": {},
   "outputs": [],
   "source": [
    "import matplotlib.pyplot as plt"
   ]
  },
  {
   "cell_type": "code",
   "execution_count": 13,
   "id": "fe59aad7-d815-4cbe-8019-d3e2d3fbdbd2",
   "metadata": {},
   "outputs": [],
   "source": [
    "def plot_learning_curve(result):\n",
    "    cmap = plt.get_cmap(\"tab10\")\n",
    "    fig,ax = plt.subplots(figsize = (10,10))\n",
    "\n",
    "    for i, (key,value) in enumerate(result.items()):\n",
    "        ax.plot(value, '-',label=key,color=cmap(i))\n",
    "        ax.legend()"
   ]
  },
  {
   "cell_type": "code",
   "execution_count": 14,
   "id": "20002ec0-de96-4172-853a-20bcc1861b58",
   "metadata": {},
   "outputs": [
    {
     "data": {
      "image/png": "[encoded data removed]",
      "text/plain": [
       "<Figure size 720x720 with 1 Axes>"
      ]
     },
     "metadata": {
      "needs_background": "light"
     },
     "output_type": "display_data"
    }
   ],
   "source": [
    "plot_learning_curve(results)"
   ]
  },
  {
   "cell_type": "code",
   "execution_count": null,
   "id": "6c52f66f-0e59-49e1-9f12-72e57cf8b3c0",
   "metadata": {},
   "outputs": [],
   "source": []
  }
 ],
 "metadata": {
  "kernelspec": {
   "display_name": "Python [conda env:.conda-roberta_for_longer_texts]",
   "language": "python",
   "name": "conda-env-.conda-roberta_for_longer_texts-py"
  },
  "language_info": {
   "codemirror_mode": {
    "name": "ipython",
    "version": 3
   },
   "file_extension": ".py",
   "mimetype": "text/x-python",
   "name": "python",
   "nbconvert_exporter": "python",
   "pygments_lexer": "ipython3",
   "version": "3.8.12"
  }
 },
 "nbformat": 4,
 "nbformat_minor": 5
}
